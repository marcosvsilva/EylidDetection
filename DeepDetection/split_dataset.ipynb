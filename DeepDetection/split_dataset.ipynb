{
 "cells": [
  {
   "cell_type": "code",
   "execution_count": null,
   "metadata": {},
   "outputs": [],
   "source": [
    "import os\n",
    "import math\n",
    "from random import seed\n",
    "from random import randint"
   ]
  },
  {
   "cell_type": "code",
   "execution_count": null,
   "metadata": {},
   "outputs": [],
   "source": [
    "dataset = os.getcwd().replace('\\DeepDetection', '\\DataSet')\n",
    "data = '{}\\\\data'.format(dataset)\n",
    "train = '{}\\\\train'.format(dataset)\n",
    "val = '{}\\\\val'.format(dataset)\n",
    "test = '{}\\\\test'.format(dataset)"
   ]
  },
  {
   "cell_type": "code",
   "execution_count": null,
   "metadata": {},
   "outputs": [],
   "source": [
    "#Proportion\n",
    "p_train = 50\n",
    "p_val = 25\n",
    "p_test = 25"
   ]
  },
  {
   "cell_type": "code",
   "execution_count": null,
   "metadata": {},
   "outputs": [],
   "source": [
    "data_size = len(os.listdir(data))\n",
    "size_train = math.trunc(data_size * p_train / 100)\n",
    "size_val = math.trunc(data_size * p_val / 100)\n",
    "size_test = math.trunc(data_size * p_test / 100)\n",
    "\n",
    "print('%d %d %d' %(size_train, size_val, size_test))"
   ]
  },
  {
   "cell_type": "code",
   "execution_count": null,
   "metadata": {
    "scrolled": false
   },
   "outputs": [],
   "source": [
    "def split_dataset(size, path):\n",
    "    aux = 0\n",
    "    seed(1)\n",
    "    if len(os.listdir(data)) > 0:\n",
    "        while (aux < size):\n",
    "            sort_number = randint(0, data_size)\n",
    "            if os.path.exists('{}\\\\{}.png'.format(data, sort_number)):\n",
    "                os.rename('{}\\\\{}.png'.format(data, sort_number), '{}\\\\{}.png'.format(path, sort_number))\n",
    "                aux += 1"
   ]
  },
  {
   "cell_type": "code",
   "execution_count": null,
   "metadata": {},
   "outputs": [],
   "source": [
    "def copy_reming(path, path_origin = ''):\n",
    "    origin = data if path_origin == '' else path_origin\n",
    "    for file in os.listdir(origin):\n",
    "        os.rename('{}\\\\{}'.format(origin, file), '{}\\\\{}'.format(path, file))"
   ]
  },
  {
   "cell_type": "code",
   "execution_count": null,
   "metadata": {},
   "outputs": [],
   "source": [
    "split_dataset(size_train, train)\n",
    "split_dataset(size_val, val)\n",
    "copy_reming(test)"
   ]
  },
  {
   "cell_type": "code",
   "execution_count": null,
   "metadata": {},
   "outputs": [],
   "source": [
    "## Return dataset\n",
    "copy_reming(data, train)\n",
    "copy_reming(data, val)\n",
    "copy_reming(data, test)"
   ]
  }
 ],
 "metadata": {
  "kernelspec": {
   "display_name": "Python 3",
   "language": "python",
   "name": "python3"
  },
  "language_info": {
   "codemirror_mode": {
    "name": "ipython",
    "version": 3
   },
   "file_extension": ".py",
   "mimetype": "text/x-python",
   "name": "python",
   "nbconvert_exporter": "python",
   "pygments_lexer": "ipython3",
   "version": "3.7.4"
  }
 },
 "nbformat": 4,
 "nbformat_minor": 2
}

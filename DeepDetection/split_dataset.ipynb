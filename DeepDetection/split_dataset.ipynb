{
 "cells": [
  {
   "cell_type": "code",
   "execution_count": 42,
   "metadata": {},
   "outputs": [],
   "source": [
    "import os\n",
    "import math\n",
    "import pandas as pd\n",
    "from random import seed\n",
    "from random import randint"
   ]
  },
  {
   "cell_type": "markdown",
   "metadata": {},
   "source": [
    "### Marc return_dataset true for join all images and dataset.csv in one past and one file"
   ]
  },
  {
   "cell_type": "code",
   "execution_count": 43,
   "metadata": {},
   "outputs": [],
   "source": [
    "return_dataset = False"
   ]
  },
  {
   "cell_type": "code",
   "execution_count": 44,
   "metadata": {},
   "outputs": [],
   "source": [
    "dataset = os.getcwd().replace('\\DeepDetection', '\\DataSet')\n",
    "\n",
    "folder_data = '{}\\\\data'.format(dataset)\n",
    "folder_train = '{}\\\\train'.format(dataset)\n",
    "folder_val = '{}\\\\val'.format(dataset)\n",
    "folder_test = '{}\\\\test'.format(dataset)"
   ]
  },
  {
   "cell_type": "code",
   "execution_count": 45,
   "metadata": {},
   "outputs": [
    {
     "data": {
      "text/plain": [
       "'C:\\\\Projects\\\\EylidDetection\\\\DataSet\\\\val.csv'"
      ]
     },
     "execution_count": 45,
     "metadata": {},
     "output_type": "execute_result"
    }
   ],
   "source": [
    "import shutil\n",
    "\n",
    "shutil.copy2(\"{}\\\\original.csv\".format(dataset), \"{}\\\\data.csv\".format(dataset))\n",
    "shutil.copy2(\"{}\\\\original.csv\".format(dataset), \"{}\\\\test.csv\".format(dataset))\n",
    "shutil.copy2(\"{}\\\\original.csv\".format(dataset), \"{}\\\\train.csv\".format(dataset))\n",
    "shutil.copy2(\"{}\\\\original.csv\".format(dataset), \"{}\\\\val.csv\".format(dataset))"
   ]
  },
  {
   "cell_type": "code",
   "execution_count": 46,
   "metadata": {},
   "outputs": [],
   "source": [
    "#Proportion\n",
    "p_train = 50\n",
    "p_val = 25\n",
    "p_test = 25"
   ]
  },
  {
   "cell_type": "code",
   "execution_count": 47,
   "metadata": {},
   "outputs": [
    {
     "name": "stdout",
     "output_type": "stream",
     "text": [
      "2550 1275 1275\n"
     ]
    }
   ],
   "source": [
    "data_size = len(os.listdir(data))\n",
    "size_train = math.trunc(data_size * p_train / 100)\n",
    "size_val = math.trunc(data_size * p_val / 100)\n",
    "size_test = math.trunc(data_size * p_test / 100)\n",
    "\n",
    "print('%d %d %d' %(size_train, size_val, size_test))"
   ]
  },
  {
   "cell_type": "code",
   "execution_count": 48,
   "metadata": {
    "scrolled": false
   },
   "outputs": [],
   "source": [
    "def split_dataset(size, path):\n",
    "    aux = 0\n",
    "    seed(1)\n",
    "    if len(os.listdir(data)) > 0:\n",
    "        while (aux < size):\n",
    "            sort_number = randint(0, data_size)\n",
    "            if os.path.exists('{}\\\\{}.png'.format(data, sort_number)):\n",
    "                os.rename('{}\\\\{}.png'.format(data, sort_number), '{}\\\\{}.png'.format(path, sort_number))\n",
    "                aux += 1"
   ]
  },
  {
   "cell_type": "code",
   "execution_count": 49,
   "metadata": {},
   "outputs": [],
   "source": [
    "def copy_reming(path, path_origin = ''):\n",
    "    origin = data if path_origin == '' else path_origin\n",
    "    for file in os.listdir(origin):\n",
    "        os.rename('{}\\\\{}'.format(origin, file), '{}\\\\{}'.format(path, file))"
   ]
  },
  {
   "cell_type": "code",
   "execution_count": 50,
   "metadata": {},
   "outputs": [],
   "source": [
    "if not return_dataset:\n",
    "    split_dataset(size_train, train)\n",
    "    split_dataset(size_val, val)\n",
    "    copy_reming(test)\n",
    "else:\n",
    "    copy_reming(data, train)\n",
    "    copy_reming(data, val)\n",
    "    copy_reming(data, test)    "
   ]
  }
 ],
 "metadata": {
  "kernelspec": {
   "display_name": "Python 3",
   "language": "python",
   "name": "python3"
  },
  "language_info": {
   "codemirror_mode": {
    "name": "ipython",
    "version": 3
   },
   "file_extension": ".py",
   "mimetype": "text/x-python",
   "name": "python",
   "nbconvert_exporter": "python",
   "pygments_lexer": "ipython3",
   "version": "3.7.4"
  }
 },
 "nbformat": 4,
 "nbformat_minor": 2
}
